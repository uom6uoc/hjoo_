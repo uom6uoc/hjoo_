{
 "cells": [
  {
   "cell_type": "code",
   "execution_count": 40,
   "metadata": {},
   "outputs": [],
   "source": [
    "from bscscan.tokens import Tokens\n",
    "import json\n"
   ]
  },
  {
   "cell_type": "code",
   "execution_count": 41,
   "metadata": {},
   "outputs": [],
   "source": [
    "key = 'HTU63DF6739HRD1RV7W4Y6B99JR5X7BSUW'\n",
    "\n",
    "MY_ADDR = '0x20bd73711a9221efd053fa79090056694300d7ae'"
   ]
  },
  {
   "cell_type": "code",
   "execution_count": 42,
   "metadata": {},
   "outputs": [
    {
     "name": "stdout",
     "output_type": "stream",
     "text": [
      "690000000000\n"
     ]
    }
   ],
   "source": [
    "\n",
    "api = Tokens(contract_address='0xa5DeC77c4d1B4eba2807C9926b182812A0cBf9Eb',\n",
    "             api_key=key)\n",
    "balance = api.get_token_balance(address=MY_ADDR)\n",
    "print(balance)"
   ]
  },
  {
   "cell_type": "code",
   "execution_count": null,
   "metadata": {},
   "outputs": [],
   "source": []
  }
 ],
 "metadata": {
  "kernelspec": {
   "display_name": "base",
   "language": "python",
   "name": "python3"
  },
  "language_info": {
   "codemirror_mode": {
    "name": "ipython",
    "version": 3
   },
   "file_extension": ".py",
   "mimetype": "text/x-python",
   "name": "python",
   "nbconvert_exporter": "python",
   "pygments_lexer": "ipython3",
   "version": "3.9.13 (main, Aug 25 2022, 18:29:29) \n[Clang 12.0.0 ]"
  },
  "orig_nbformat": 4,
  "vscode": {
   "interpreter": {
    "hash": "7e64d235d50a335b1f3b81183cb136d1ee33d5856107d524e5220e93f96317b8"
   }
  }
 },
 "nbformat": 4,
 "nbformat_minor": 2
}
