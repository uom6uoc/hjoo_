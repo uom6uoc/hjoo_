{
 "cells": [
  {
   "cell_type": "code",
   "execution_count": 1,
   "id": "adad5e36",
   "metadata": {},
   "outputs": [],
   "source": [
    "from bscscan.accounts import Account\n",
    "import json\n"
   ]
  },
  {
   "cell_type": "code",
   "execution_count": 10,
   "id": "87344eef",
   "metadata": {},
   "outputs": [
    {
     "name": "stdout",
     "output_type": "stream",
     "text": [
      "6404825693147806\n"
     ]
    }
   ],
   "source": [
    "\n",
    "balance = api.get_balance()\n",
    "print(balance)"
   ]
  },
  {
   "cell_type": "code",
   "execution_count": null,
   "id": "c3b726b3",
   "metadata": {},
   "outputs": [],
   "source": []
  },
  {
   "cell_type": "code",
   "execution_count": null,
   "id": "18fbb1c2",
   "metadata": {},
   "outputs": [],
   "source": []
  }
 ],
 "metadata": {
  "kernelspec": {
   "display_name": "base",
   "language": "python",
   "name": "python3"
  },
  "language_info": {
   "codemirror_mode": {
    "name": "ipython",
    "version": 3
   },
   "file_extension": ".py",
   "mimetype": "text/x-python",
   "name": "python",
   "nbconvert_exporter": "python",
   "pygments_lexer": "ipython3",
   "version": "3.9.13 (main, Aug 25 2022, 18:29:29) \n[Clang 12.0.0 ]"
  },
  "vscode": {
   "interpreter": {
    "hash": "7e64d235d50a335b1f3b81183cb136d1ee33d5856107d524e5220e93f96317b8"
   }
  }
 },
 "nbformat": 4,
 "nbformat_minor": 5
}
