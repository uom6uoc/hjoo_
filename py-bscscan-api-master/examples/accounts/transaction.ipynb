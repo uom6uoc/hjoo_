{
 "cells": [
  {
   "cell_type": "code",
   "execution_count": 17,
   "id": "d63ee835",
   "metadata": {},
   "outputs": [],
   "source": [
    "from bscscan.accounts import Account\n",
    "import pandas as pd"
   ]
  },
  {
   "cell_type": "code",
   "execution_count": 18,
   "id": "1e1ade0b",
   "metadata": {},
   "outputs": [],
   "source": [
    "key = 'HTU63DF6739HRD1RV7W4Y6B99JR5X7BSUW'\n",
    "\n",
    "MY_ADDR = '0xe07B3b1fA77078191033168ADAd506dA1288D24f'"
   ]
  },
  {
   "cell_type": "code",
   "execution_count": 20,
   "id": "ce5c110b",
   "metadata": {},
   "outputs": [],
   "source": [
    "api = Account(address=MY_ADDR, api_key=key)\n",
    "transactions = api.get_transaction_page(page=1, offset=100, sort='desc', erc20=True)\n",
    "my_addr = MY_ADDR.lower()"
   ]
  },
  {
   "cell_type": "code",
   "execution_count": 21,
   "id": "cea1e78f",
   "metadata": {},
   "outputs": [
    {
     "name": "stdout",
     "output_type": "stream",
     "text": [
      "--------------------------------------\n",
      "   from        to    symbol     amount\n",
      "--------------------------------------\n",
      "          my_addr      PEN 34529.866\n",
      "          my_addr      PEN  223.284\n",
      " my_addr               PEN  223.000\n",
      "          my_addr      PEN  223.000\n",
      "          my_addr      PEN 31312.159\n",
      " my_addr               PEN 40000.485\n",
      "          my_addr      PEN  112.000\n",
      "          my_addr      PEN 1917.583\n",
      "          my_addr      PEN 125507.643\n",
      "          my_addr      PEN 76173.223\n",
      "          my_addr      PEN 134515.081\n",
      "          my_addr      PEN 1437949.878\n",
      "          my_addr      PEN 3007.828\n",
      "          my_addr      PEN   25.000\n",
      "          my_addr      PEN 50008.050\n",
      "          my_addr      PEN 29580.904\n",
      "          my_addr      PEN 14612.536\n",
      " my_addr               PEN 9000.000\n",
      "          my_addr      PEN 1049.192\n",
      " my_addr               PEN 50000.000\n",
      "          my_addr      PEN 54000.000\n",
      "          my_addr      PEN 100000.000\n",
      "          my_addr      PEN   80.000\n",
      "          my_addr      PEN  149.586\n",
      " my_addr               PEN 14975.005\n",
      "          my_addr      PEN 115704.943\n",
      "          my_addr      PEN 99980.000\n",
      "          my_addr      PEN  347.000\n",
      "          my_addr      PEN  987.025\n",
      "          my_addr      PEN  223.000\n",
      " my_addr               PEN   20.000\n",
      "          my_addr      PEN 2128.780\n",
      "          my_addr      PEN 34679.549\n",
      " my_addr               PEN  300.000\n",
      " my_addr               PEN 5677.870\n",
      "          my_addr      PEN 24439.582\n",
      "          my_addr      PEN   10.000\n",
      "          my_addr      PEN   10.000\n",
      "          my_addr      PEN 205941.135\n",
      "          my_addr      PEN 131986.128\n",
      " my_addr               PEN 131886.128\n",
      " my_addr               PEN  100.000\n",
      "          my_addr      PEN 28566.859\n",
      " my_addr               PEN   30.000\n",
      "          my_addr      PEN   30.000\n",
      "          my_addr      PEN 1736000.000\n",
      "          my_addr      PEN    2.104\n",
      "          my_addr      PEN 32627.747\n",
      "          my_addr      PEN  100.000\n",
      "          my_addr      PEN 14975.005\n",
      "          my_addr      PEN 131986.128\n",
      " my_addr               PEN 131941.707\n",
      " my_addr               PEN   10.000\n",
      "          my_addr      PEN   10.000\n",
      "          my_addr      PEN   10.000\n",
      "          my_addr      PEN   10.000\n",
      " my_addr               PEN  101.000\n",
      "          my_addr      PEN  101.000\n",
      " my_addr               PEN 1182.000\n",
      "          my_addr      PEN 131941.707\n",
      " my_addr               PEN 131941.000\n",
      "          my_addr      PEN 162098.216\n",
      "          my_addr      PEN 126703.000\n",
      "          my_addr      PEN 63292.318\n",
      "          my_addr      PEN 7463.869\n",
      "          my_addr      PEN 2065.250\n",
      "          my_addr      PEN 20098.658\n",
      "          my_addr      PEN 12458.294\n",
      "          my_addr      PEN 2975.330\n",
      "          my_addr      PEN 232059.881\n",
      "          my_addr      PEN  513.802\n",
      "          my_addr      PEN 74151.281\n",
      "          my_addr      PEN 369551.000\n",
      "          my_addr      PEN  223.000\n",
      "          my_addr      PEN 377710.608\n",
      "          my_addr      PEN 255477.366\n",
      "          my_addr      PEN 33030.387\n",
      "          my_addr      PEN 296229.839\n",
      "          my_addr      PEN 11275.728\n",
      "          my_addr      PEN 6731.941\n",
      "          my_addr      PEN 423303.016\n",
      "          my_addr      PEN 163026.536\n",
      "          my_addr      PEN 129601.522\n",
      "          my_addr      PEN 357111.000\n",
      " my_addr               PEN 364681.393\n",
      "          my_addr      PEN 177723.453\n",
      "          my_addr      PEN 260807.811\n",
      " my_addr               PEN   10.000\n",
      "          my_addr      PEN 5675.766\n",
      "          my_addr      PEN 138861.746\n",
      "          my_addr      PEN   10.000\n",
      "          my_addr      PEN   10.000\n",
      "          my_addr      PEN 700372.000\n",
      "          my_addr      PEN 31941.000\n",
      "          my_addr      PEN 100000.000\n",
      "          my_addr      PEN  448.440\n",
      "          my_addr      PEN 425668.528\n",
      "          my_addr      PEN 231025.535\n",
      "          my_addr      PEN 1330.000\n",
      "          my_addr      PEN 364681.393\n"
     ]
    }
   ],
   "source": [
    "print(\"--------------------------------------\")\n",
    "print(\"   from        to    symbol     amount\")\n",
    "print(\"--------------------------------------\")\n",
    "for each in transactions :\n",
    "    qty = int(each['value'])/(10**18)\n",
    "    from_addr = ''\n",
    "    to_addr = ''\n",
    "    if each['from'] == my_addr :\n",
    "        from_addr = 'my_addr'\n",
    "    if each['to'] == my_addr :\n",
    "        to_addr = 'my_addr'\n",
    "    print(\"%8s %8s  %7s %8.3f\"%(from_addr, to_addr, each['tokenSymbol'], qty))\n"
   ]
  },
  {
   "cell_type": "code",
   "execution_count": null,
   "id": "7bfe00d9",
   "metadata": {},
   "outputs": [
    {
     "name": "stdout",
     "output_type": "stream",
     "text": [
      "{'blockNumber': '25320749', 'timeStamp': '1675347005', 'hash': '0x57a86328e9ad56b41bd545a0a776bdb3fc6c687b954c315f602e035f557b9245', 'nonce': '149', 'blockHash': '0xb6793ac6d4d73143bf27a6d9878047c241dc9029563366e2b989ded3e0beec34', 'from': '0x5630122b518d4a2e8967a000e336caacd44bd3eb', 'contractAddress': '0xa5dec77c4d1b4eba2807c9926b182812a0cbf9eb', 'to': '0xe07b3b1fa77078191033168adad506da1288d24f', 'value': '34529866314000000000000', 'tokenName': 'Protocon', 'tokenSymbol': 'PEN', 'tokenDecimal': '18', 'transactionIndex': '123', 'gas': '160039', 'gasPrice': '5000000000', 'gasUsed': '157944', 'cumulativeGasUsed': '16032429', 'input': 'deprecated', 'confirmations': '1007'}\n"
     ]
    }
   ],
   "source": [
    "\n",
    "print(transactions[0])"
   ]
  },
  {
   "cell_type": "code",
   "execution_count": null,
   "id": "d1299676",
   "metadata": {},
   "outputs": [
    {
     "name": "stdout",
     "output_type": "stream",
     "text": [
      "0\n"
     ]
    }
   ],
   "source": [
    "\n",
    "balance = api.get_balance()\n",
    "print(balance)"
   ]
  },
  {
   "cell_type": "code",
   "execution_count": null,
   "id": "2cc6910f",
   "metadata": {},
   "outputs": [
    {
     "name": "stdout",
     "output_type": "stream",
     "text": [
      "   blockNumber   timeStamp                                               hash  \\\n",
      "0     25320749  1675347005  0x57a86328e9ad56b41bd545a0a776bdb3fc6c687b954c...   \n",
      "1     25310976  1675317376  0x51b1a296c4f74024708ffac3ae0e9e7bb84aaed70fdf...   \n",
      "2     25310956  1675317316  0x3c8daee5598100048c45ccf2d959bf40cd388da11a19...   \n",
      "3     25310900  1675317148  0xd45ec469c0c7b3d1f9474949c1e2c0ad50dad8350429...   \n",
      "4     25306279  1675302958  0x21b0529f6f29afdeebdbe82e20ce00836d09bfc214cb...   \n",
      "..         ...         ...                                                ...   \n",
      "95    24746005  1673599314  0x4d2396885dfd1d9064f0fefe7a9324c414f66e95811b...   \n",
      "96    24745192  1673596862  0x66d4e3e6f282a86983a51f005f03d9fd9732f814e32e...   \n",
      "97    24745162  1673596772  0x00c860db07bdf964f35b6033a0c4da390c1e97e105f0...   \n",
      "98    24745150  1673596736  0xb4f1596a0fae7affd6399e926c3069092f24eae0fef4...   \n",
      "99    24745116  1673596634  0x5926d49d0b062921bc66f7a1687f54fc8f58f46bd0b1...   \n",
      "\n",
      "   nonce                                          blockHash  \\\n",
      "0    149  0xb6793ac6d4d73143bf27a6d9878047c241dc90295633...   \n",
      "1     11  0x68bf1e5ea18e6a9455a49ecb0bee04adb6cdc8304f0d...   \n",
      "2      9  0xf9fb3b63b2d8d6ecb1ded8d8b921c57db56f1218aebe...   \n",
      "3     10  0xd043cbc923b84c338057841eb844e39d11e8ca759f25...   \n",
      "4     15  0x7fa57a9287a293ac525f740398e931f097cc6ae43fed...   \n",
      "..   ...                                                ...   \n",
      "95   200  0xb70ebdfbc0af3b1e549a0a8fa787af9904a9511e9c18...   \n",
      "96    15  0x4346e87600d0e2372490f2adfbc016d884335f46514b...   \n",
      "97    12  0x80b501810a42e127ac41509c0d17802f2bb7779cec0d...   \n",
      "98   216  0x4c401f062806bc3d4a2f93ace76569d7b96e86ebe5f2...   \n",
      "99    28  0xb347f4f096ed9797510a68f495d2477b6435f8aff6a2...   \n",
      "\n",
      "                                          from  \\\n",
      "0   0x5630122b518d4a2e8967a000e336caacd44bd3eb   \n",
      "1   0x1b64d30a1c83b470aca7fe8c8465fb7498dae62b   \n",
      "2   0xe07b3b1fa77078191033168adad506da1288d24f   \n",
      "3   0x1b64d30a1c83b470aca7fe8c8465fb7498dae62b   \n",
      "4   0x4c28fa38703edf4c9456e25a27f21ddb5d07aaef   \n",
      "..                                         ...   \n",
      "95  0xbf00749e9315abc996e09d07ff1986761df24c0c   \n",
      "96  0x4b22639de4c07682f113326048f45d28282e7e6f   \n",
      "97  0x87d05b70638d14aeb40b55039de0d87b40c83f0d   \n",
      "98  0xa86de09c366626f1d0ffb0e7a85173e94e7bc7ed   \n",
      "99  0x2dac25cf5cf2a66a8ca73d44d8c314096d72b2e8   \n",
      "\n",
      "                               contractAddress  \\\n",
      "0   0xa5dec77c4d1b4eba2807c9926b182812a0cbf9eb   \n",
      "1   0xa5dec77c4d1b4eba2807c9926b182812a0cbf9eb   \n",
      "2   0xa5dec77c4d1b4eba2807c9926b182812a0cbf9eb   \n",
      "3   0xa5dec77c4d1b4eba2807c9926b182812a0cbf9eb   \n",
      "4   0xa5dec77c4d1b4eba2807c9926b182812a0cbf9eb   \n",
      "..                                         ...   \n",
      "95  0xa5dec77c4d1b4eba2807c9926b182812a0cbf9eb   \n",
      "96  0xa5dec77c4d1b4eba2807c9926b182812a0cbf9eb   \n",
      "97  0xa5dec77c4d1b4eba2807c9926b182812a0cbf9eb   \n",
      "98  0xa5dec77c4d1b4eba2807c9926b182812a0cbf9eb   \n",
      "99  0xa5dec77c4d1b4eba2807c9926b182812a0cbf9eb   \n",
      "\n",
      "                                            to                     value  \\\n",
      "0   0xe07b3b1fa77078191033168adad506da1288d24f   34529866314000000000000   \n",
      "1   0xe07b3b1fa77078191033168adad506da1288d24f     223284287000000000000   \n",
      "2   0x7ed91bfea7f78686a02fb4ce6f1503cff07e0164     223000000000000000000   \n",
      "3   0xe07b3b1fa77078191033168adad506da1288d24f     223000000000000000000   \n",
      "4   0xe07b3b1fa77078191033168adad506da1288d24f   31312159470000000000000   \n",
      "..                                         ...                       ...   \n",
      "95  0xe07b3b1fa77078191033168adad506da1288d24f     448439739000000000000   \n",
      "96  0xe07b3b1fa77078191033168adad506da1288d24f  425668528260000000000000   \n",
      "97  0xe07b3b1fa77078191033168adad506da1288d24f  231025534910000000000000   \n",
      "98  0xe07b3b1fa77078191033168adad506da1288d24f    1330000000000000000000   \n",
      "99  0xe07b3b1fa77078191033168adad506da1288d24f  364681393369000000000000   \n",
      "\n",
      "   tokenName tokenSymbol tokenDecimal transactionIndex     gas    gasPrice  \\\n",
      "0   Protocon         PEN           18              123  160039  5000000000   \n",
      "1   Protocon         PEN           18               92  212694  5000000000   \n",
      "2   Protocon         PEN           18              116  214468  5000000000   \n",
      "3   Protocon         PEN           18               23  235564  5000000000   \n",
      "4   Protocon         PEN           18               94  157067  5000000000   \n",
      "..       ...         ...          ...              ...     ...         ...   \n",
      "95  Protocon         PEN           18               38  367539  5000000000   \n",
      "96  Protocon         PEN           18               85  367557  5000000000   \n",
      "97  Protocon         PEN           18               59  367570  5000000000   \n",
      "98  Protocon         PEN           18               36  367552  5000000000   \n",
      "99  Protocon         PEN           18               41  367557  5000000000   \n",
      "\n",
      "   gasUsed cumulativeGasUsed       input confirmations  \n",
      "0   157944          16032429  deprecated          1007  \n",
      "1   139986          14902937  deprecated         10780  \n",
      "2   111150          13775062  deprecated         10800  \n",
      "3   154994           1930872  deprecated         10856  \n",
      "4   155018           9055861  deprecated         15477  \n",
      "..     ...               ...         ...           ...  \n",
      "95  241603           2983870  deprecated        575751  \n",
      "96  241615           6353071  deprecated        576564  \n",
      "97  241623           5704364  deprecated        576594  \n",
      "98  226611           3556326  deprecated        576606  \n",
      "99  241615           2621430  deprecated        576640  \n",
      "\n",
      "[100 rows x 19 columns]\n"
     ]
    }
   ],
   "source": [
    "df = pd.DataFrame(transactions)\n",
    "print(df)"
   ]
  },
  {
   "cell_type": "code",
   "execution_count": null,
   "id": "ca0bfb4e",
   "metadata": {},
   "outputs": [
    {
     "name": "stderr",
     "output_type": "stream",
     "text": [
      "/var/folders/bh/rq4473wd0pq5vlz3vtfvdhh80000gn/T/ipykernel_20077/1597169636.py:4: FutureWarning: save is not part of the public API, usage can give unexpected results and will be removed in a future version\n",
      "  writer.save()\n"
     ]
    }
   ],
   "source": [
    "def save(df, filename):\n",
    "    writer = pd.ExcelWriter(filename)\n",
    "    df.to_excel(writer,\"sheet1\")\n",
    "    writer.save()\n",
    "save(df, \"x.xlsx\")"
   ]
  }
 ],
 "metadata": {
  "kernelspec": {
   "display_name": "base",
   "language": "python",
   "name": "python3"
  },
  "language_info": {
   "codemirror_mode": {
    "name": "ipython",
    "version": 3
   },
   "file_extension": ".py",
   "mimetype": "text/x-python",
   "name": "python",
   "nbconvert_exporter": "python",
   "pygments_lexer": "ipython3",
   "version": "3.9.13 (main, Aug 25 2022, 18:29:29) \n[Clang 12.0.0 ]"
  },
  "vscode": {
   "interpreter": {
    "hash": "7e64d235d50a335b1f3b81183cb136d1ee33d5856107d524e5220e93f96317b8"
   }
  }
 },
 "nbformat": 4,
 "nbformat_minor": 5
}
