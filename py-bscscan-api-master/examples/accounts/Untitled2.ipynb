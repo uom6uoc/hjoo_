{
 "cells": [
  {
   "cell_type": "code",
   "execution_count": 1,
   "id": "f31fb4e3",
   "metadata": {},
   "outputs": [],
   "source": [
    "from bscscan.accounts import Account\n",
    "from bscscan.tokens import Tokens\n",
    "\n",
    "import json\n"
   ]
  },
  {
   "cell_type": "code",
   "execution_count": 2,
   "id": "a38fd0de",
   "metadata": {},
   "outputs": [],
   "source": [
    "key = 'HTU63DF6739HRD1RV7W4Y6B99JR5X7BSUW'\n",
    "\n",
    "MY_ADDR = '0xe07B3b1fA77078191033168ADAd506dA1288D24f'\n"
   ]
  },
  {
   "cell_type": "code",
   "execution_count": 3,
   "id": "ea8f582c",
   "metadata": {},
   "outputs": [
    {
     "name": "stdout",
     "output_type": "stream",
     "text": [
      "---------------------------------------------------\n",
      "   from        to    symbol     amount      balance\n",
      "---------------------------------------------------\n",
      "0x5630122b518d4a2e8967a000e336caacd44bd3eb 0xe07b3b1fa77078191033168adad506da1288d24f      PEN 34529.866\n",
      "0x1b64d30a1c83b470aca7fe8c8465fb7498dae62b 0xe07b3b1fa77078191033168adad506da1288d24f      PEN  223.284\n",
      "0xe07b3b1fa77078191033168adad506da1288d24f 0x7ed91bfea7f78686a02fb4ce6f1503cff07e0164      PEN  223.000\n",
      "0x1b64d30a1c83b470aca7fe8c8465fb7498dae62b 0xe07b3b1fa77078191033168adad506da1288d24f      PEN  223.000\n",
      "0x4c28fa38703edf4c9456e25a27f21ddb5d07aaef 0xe07b3b1fa77078191033168adad506da1288d24f      PEN 31312.159\n",
      "0xe07b3b1fa77078191033168adad506da1288d24f 0x5630122b518d4a2e8967a000e336caacd44bd3eb      PEN 40000.485\n",
      "0x4442a699664ef9908e958fad6019a4ae96d8caa8 0xe07b3b1fa77078191033168adad506da1288d24f      PEN  112.000\n",
      "0x20bd73711a9221efd053fa79090056694300d7ae 0xe07b3b1fa77078191033168adad506da1288d24f      PEN 1917.583\n",
      "0xf6e16afbbba658739e0d81db79786f271f61fc0f 0xe07b3b1fa77078191033168adad506da1288d24f      PEN 125507.643\n",
      "0xf54b909a1f54d39b82efc5271cf24c58f2d427e9 0xe07b3b1fa77078191033168adad506da1288d24f      PEN 76173.223\n",
      "0x0776a16b9f385c8a8c52e77e7c0a575fbe364687 0xe07b3b1fa77078191033168adad506da1288d24f      PEN 134515.081\n",
      "0xc2d48593d0a3f260297b20dffac9d1157ab0873e 0xe07b3b1fa77078191033168adad506da1288d24f      PEN 1437949.878\n",
      "0x21bb5ab358a9a0487782a910eb38a4fc32d1e807 0xe07b3b1fa77078191033168adad506da1288d24f      PEN 3007.828\n",
      "0x064d07eeab19e730c255307997431d05404d60cc 0xe07b3b1fa77078191033168adad506da1288d24f      PEN   25.000\n",
      "0x657d5baaca74ec67e6d900f00231748a577594f9 0xe07b3b1fa77078191033168adad506da1288d24f      PEN 50008.050\n",
      "0x6a7c2cee4af8ef0f818ae3cc69b70a6444cedeca 0xe07b3b1fa77078191033168adad506da1288d24f      PEN 29580.904\n",
      "0xa9d61fc51802ede75974572593f4eb169e17f5eb 0xe07b3b1fa77078191033168adad506da1288d24f      PEN 14612.536\n",
      "0xe07b3b1fa77078191033168adad506da1288d24f 0x5630122b518d4a2e8967a000e336caacd44bd3eb      PEN 9000.000\n",
      "0x194ad6d123d789255168c979c03d556b9defc2be 0xe07b3b1fa77078191033168adad506da1288d24f      PEN 1049.192\n",
      "0xe07b3b1fa77078191033168adad506da1288d24f 0x194ad6d123d789255168c979c03d556b9defc2be      PEN 50000.000\n",
      "0x657d5baaca74ec67e6d900f00231748a577594f9 0xe07b3b1fa77078191033168adad506da1288d24f      PEN 54000.000\n",
      "0x657d5baaca74ec67e6d900f00231748a577594f9 0xe07b3b1fa77078191033168adad506da1288d24f      PEN 100000.000\n",
      "0x4442a699664ef9908e958fad6019a4ae96d8caa8 0xe07b3b1fa77078191033168adad506da1288d24f      PEN   80.000\n",
      "0x21bb5ab358a9a0487782a910eb38a4fc32d1e807 0xe07b3b1fa77078191033168adad506da1288d24f      PEN  149.586\n",
      "0xe07b3b1fa77078191033168adad506da1288d24f 0xe6dd3f368272857e3df5a0a743f6eca02724fdb8      PEN 14975.005\n",
      "0x367fbf5990089076aa00f4c81050be5b9b347e25 0xe07b3b1fa77078191033168adad506da1288d24f      PEN 115704.943\n",
      "0x657d5baaca74ec67e6d900f00231748a577594f9 0xe07b3b1fa77078191033168adad506da1288d24f      PEN 99980.000\n",
      "0x1317c17fed579ef67c01b0816821d36aef98e4fc 0xe07b3b1fa77078191033168adad506da1288d24f      PEN  347.000\n",
      "0x1b64d30a1c83b470aca7fe8c8465fb7498dae62b 0xe07b3b1fa77078191033168adad506da1288d24f      PEN  987.025\n",
      "0x7ed91bfea7f78686a02fb4ce6f1503cff07e0164 0xe07b3b1fa77078191033168adad506da1288d24f      PEN  223.000\n",
      "0xe07b3b1fa77078191033168adad506da1288d24f 0x57110ea500967124e2731c07f883c8bac9177dbf      PEN   20.000\n",
      "0x21bb5ab358a9a0487782a910eb38a4fc32d1e807 0xe07b3b1fa77078191033168adad506da1288d24f      PEN 2128.780\n",
      "0x1edcf3c9bbeab14e1c321e94bec2f88aada00cbe 0xe07b3b1fa77078191033168adad506da1288d24f      PEN 34679.549\n",
      "0xe07b3b1fa77078191033168adad506da1288d24f 0xb5455a3675a6602b924d2665c0247805b08c39f8      PEN  300.000\n",
      "0xe07b3b1fa77078191033168adad506da1288d24f 0x973978bd5cae215240c412e94178adfa2c77f14a      PEN 5677.870\n",
      "0xef385df87a9ebfdb55ef7e77cf53e392340ada61 0xe07b3b1fa77078191033168adad506da1288d24f      PEN 24439.582\n",
      "0x57110ea500967124e2731c07f883c8bac9177dbf 0xe07b3b1fa77078191033168adad506da1288d24f      PEN   10.000\n",
      "0x57110ea500967124e2731c07f883c8bac9177dbf 0xe07b3b1fa77078191033168adad506da1288d24f      PEN   10.000\n",
      "0x506e0a47bd491eee3ef9f723e2dace6710b863d5 0xe07b3b1fa77078191033168adad506da1288d24f      PEN 205941.135\n",
      "0xb5455a3675a6602b924d2665c0247805b08c39f8 0xe07b3b1fa77078191033168adad506da1288d24f      PEN 131986.128\n",
      "0xe07b3b1fa77078191033168adad506da1288d24f 0xb5455a3675a6602b924d2665c0247805b08c39f8      PEN 131886.128\n",
      "0xe07b3b1fa77078191033168adad506da1288d24f 0xb5455a3675a6602b924d2665c0247805b08c39f8      PEN  100.000\n",
      "0x74198dc0712871c0ffb8dd3dc02e996ef6abee24 0xe07b3b1fa77078191033168adad506da1288d24f      PEN 28566.859\n",
      "0xe07b3b1fa77078191033168adad506da1288d24f 0xa96f973189fa0dfa8cd137b1c2abb035d53df04b      PEN   30.000\n",
      "0xa96f973189fa0dfa8cd137b1c2abb035d53df04b 0xe07b3b1fa77078191033168adad506da1288d24f      PEN   30.000\n",
      "0xe5090bde5764a98a8e2d3462e59ac35592f5874d 0xe07b3b1fa77078191033168adad506da1288d24f      PEN 1736000.000\n",
      "0x973978bd5cae215240c412e94178adfa2c77f14a 0xe07b3b1fa77078191033168adad506da1288d24f      PEN    2.104\n",
      "0x064d07eeab19e730c255307997431d05404d60cc 0xe07b3b1fa77078191033168adad506da1288d24f      PEN 32627.747\n",
      "0x9b953a8698ee01e17ccc710050c2b196b49ee6c2 0xe07b3b1fa77078191033168adad506da1288d24f      PEN  100.000\n",
      "0xe6dd3f368272857e3df5a0a743f6eca02724fdb8 0xe07b3b1fa77078191033168adad506da1288d24f      PEN 14975.005\n",
      "0xb5455a3675a6602b924d2665c0247805b08c39f8 0xe07b3b1fa77078191033168adad506da1288d24f      PEN 131986.128\n",
      "0xe07b3b1fa77078191033168adad506da1288d24f 0xb5455a3675a6602b924d2665c0247805b08c39f8      PEN 131941.707\n",
      "0xe07b3b1fa77078191033168adad506da1288d24f 0xb68bbb37b1506db52309c0e8ca95c6c26da49f53      PEN   10.000\n",
      "0xb68bbb37b1506db52309c0e8ca95c6c26da49f53 0xe07b3b1fa77078191033168adad506da1288d24f      PEN   10.000\n",
      "0xb68bbb37b1506db52309c0e8ca95c6c26da49f53 0xe07b3b1fa77078191033168adad506da1288d24f      PEN   10.000\n",
      "0xb68bbb37b1506db52309c0e8ca95c6c26da49f53 0xe07b3b1fa77078191033168adad506da1288d24f      PEN   10.000\n",
      "0xe07b3b1fa77078191033168adad506da1288d24f 0x06590361993406b049fefd5d481085bd38e5bf6a      PEN  101.000\n",
      "0x06590361993406b049fefd5d481085bd38e5bf6a 0xe07b3b1fa77078191033168adad506da1288d24f      PEN  101.000\n",
      "0xe07b3b1fa77078191033168adad506da1288d24f 0x5630122b518d4a2e8967a000e336caacd44bd3eb      PEN 1182.000\n",
      "0xb5455a3675a6602b924d2665c0247805b08c39f8 0xe07b3b1fa77078191033168adad506da1288d24f      PEN 131941.707\n",
      "0xe07b3b1fa77078191033168adad506da1288d24f 0xb5455a3675a6602b924d2665c0247805b08c39f8      PEN 131941.000\n",
      "0x469b985df9a6da84826b40e9556051616623aaad 0xe07b3b1fa77078191033168adad506da1288d24f      PEN 162098.216\n",
      "0x4442a699664ef9908e958fad6019a4ae96d8caa8 0xe07b3b1fa77078191033168adad506da1288d24f      PEN 126703.000\n",
      "0x01ff3b34aae9ba8484ba653da3ed967a924d307e 0xe07b3b1fa77078191033168adad506da1288d24f      PEN 63292.318\n",
      "0xe6dd3f368272857e3df5a0a743f6eca02724fdb8 0xe07b3b1fa77078191033168adad506da1288d24f      PEN 7463.869\n",
      "0x73f7688a4d0f04f039157ae42b013dcbf7043975 0xe07b3b1fa77078191033168adad506da1288d24f      PEN 2065.250\n",
      "0x2651951fafbf746e0421f6b03e23a379b248e7d6 0xe07b3b1fa77078191033168adad506da1288d24f      PEN 20098.658\n",
      "0xa6e470cc3bdd078b5fb1fae855c55ccd54e385db 0xe07b3b1fa77078191033168adad506da1288d24f      PEN 12458.294\n",
      "0xfb2c82f03d155a48bcd029f02a1b955ced97d19c 0xe07b3b1fa77078191033168adad506da1288d24f      PEN 2975.330\n",
      "0xc986784ec8f034699a5eadcc975aa3e3561e0ee5 0xe07b3b1fa77078191033168adad506da1288d24f      PEN 232059.881\n",
      "0xef1c6a65f51847520c291de42840dd566b0d465b 0xe07b3b1fa77078191033168adad506da1288d24f      PEN  513.802\n",
      "0x417bcaf983191ae0436c824609eee1490ea1e4f8 0xe07b3b1fa77078191033168adad506da1288d24f      PEN 74151.281\n",
      "0x013b2e1fa407ae2d484142dffc9f87737268dacd 0xe07b3b1fa77078191033168adad506da1288d24f      PEN 369551.000\n",
      "0x49f3642522034a2faac4dd75f1a2988617b32f2f 0xe07b3b1fa77078191033168adad506da1288d24f      PEN  223.000\n",
      "0x76257be2c2a6aa0afde361ecb478cf161060747e 0xe07b3b1fa77078191033168adad506da1288d24f      PEN 377710.608\n",
      "0xe4c037ca73c8462715f158408991c1c24d83feb3 0xe07b3b1fa77078191033168adad506da1288d24f      PEN 255477.366\n",
      "0x4c28fa38703edf4c9456e25a27f21ddb5d07aaef 0xe07b3b1fa77078191033168adad506da1288d24f      PEN 33030.387\n",
      "0x4c3329fa9799f8f0f65c688e177dfd006875ce5b 0xe07b3b1fa77078191033168adad506da1288d24f      PEN 296229.839\n",
      "0xbcc685a3546637685d8e67017186104bfa263327 0xe07b3b1fa77078191033168adad506da1288d24f      PEN 11275.728\n",
      "0xba8bcd5260f8a4fde239b0160959825627415356 0xe07b3b1fa77078191033168adad506da1288d24f      PEN 6731.941\n",
      "0x13fda2324fa6656b8c83ebfa0ae70f80f250024d 0xe07b3b1fa77078191033168adad506da1288d24f      PEN 423303.016\n",
      "0x1b2c543bc5a87040fc8f70ac565bc35405a922bd 0xe07b3b1fa77078191033168adad506da1288d24f      PEN 163026.536\n",
      "0x01e2bacf721c00eec38511711ff7fd8d36f7e8fa 0xe07b3b1fa77078191033168adad506da1288d24f      PEN 129601.522\n",
      "0x2dac25cf5cf2a66a8ca73d44d8c314096d72b2e8 0xe07b3b1fa77078191033168adad506da1288d24f      PEN 357111.000\n",
      "0xe07b3b1fa77078191033168adad506da1288d24f 0x2dac25cf5cf2a66a8ca73d44d8c314096d72b2e8      PEN 364681.393\n",
      "0x21bb5ab358a9a0487782a910eb38a4fc32d1e807 0xe07b3b1fa77078191033168adad506da1288d24f      PEN 177723.453\n",
      "0x7c92fb4fbf3eb5c5a8478e6a510e881e64c4a069 0xe07b3b1fa77078191033168adad506da1288d24f      PEN 260807.811\n",
      "0xe07b3b1fa77078191033168adad506da1288d24f 0x9f0e2722e6d5806065503af3728bf34ff0b97394      PEN   10.000\n",
      "0x973978bd5cae215240c412e94178adfa2c77f14a 0xe07b3b1fa77078191033168adad506da1288d24f      PEN 5675.766\n",
      "0x30680b746f9636b5efc10d1a3ef4c72b5fc58fe5 0xe07b3b1fa77078191033168adad506da1288d24f      PEN 138861.746\n",
      "0x9f0e2722e6d5806065503af3728bf34ff0b97394 0xe07b3b1fa77078191033168adad506da1288d24f      PEN   10.000\n",
      "0x9f0e2722e6d5806065503af3728bf34ff0b97394 0xe07b3b1fa77078191033168adad506da1288d24f      PEN   10.000\n",
      "0x657d5baaca74ec67e6d900f00231748a577594f9 0xe07b3b1fa77078191033168adad506da1288d24f      PEN 700372.000\n",
      "0xb5455a3675a6602b924d2665c0247805b08c39f8 0xe07b3b1fa77078191033168adad506da1288d24f      PEN 31941.000\n",
      "0xb5455a3675a6602b924d2665c0247805b08c39f8 0xe07b3b1fa77078191033168adad506da1288d24f      PEN 100000.000\n",
      "0xbf00749e9315abc996e09d07ff1986761df24c0c 0xe07b3b1fa77078191033168adad506da1288d24f      PEN  448.440\n",
      "0x4b22639de4c07682f113326048f45d28282e7e6f 0xe07b3b1fa77078191033168adad506da1288d24f      PEN 425668.528\n",
      "0x87d05b70638d14aeb40b55039de0d87b40c83f0d 0xe07b3b1fa77078191033168adad506da1288d24f      PEN 231025.535\n",
      "0xa86de09c366626f1d0ffb0e7a85173e94e7bc7ed 0xe07b3b1fa77078191033168adad506da1288d24f      PEN 1330.000\n",
      "0x2dac25cf5cf2a66a8ca73d44d8c314096d72b2e8 0xe07b3b1fa77078191033168adad506da1288d24f      PEN 364681.393\n",
      "{'blockNumber': '25320749', 'timeStamp': '1675347005', 'hash': '0x57a86328e9ad56b41bd545a0a776bdb3fc6c687b954c315f602e035f557b9245', 'nonce': '149', 'blockHash': '0xb6793ac6d4d73143bf27a6d9878047c241dc9029563366e2b989ded3e0beec34', 'from': '0x5630122b518d4a2e8967a000e336caacd44bd3eb', 'contractAddress': '0xa5dec77c4d1b4eba2807c9926b182812a0cbf9eb', 'to': '0xe07b3b1fa77078191033168adad506da1288d24f', 'value': '34529866314000000000000', 'tokenName': 'Protocon', 'tokenSymbol': 'PEN', 'tokenDecimal': '18', 'transactionIndex': '123', 'gas': '160039', 'gasPrice': '5000000000', 'gasUsed': '157944', 'cumulativeGasUsed': '16032429', 'input': 'deprecated', 'confirmations': '999'}\n"
     ]
    }
   ],
   "source": [
    "api = Account(address=MY_ADDR, api_key=key)\n",
    "transactions = api.get_transaction_page(page=1, offset=100, sort='desc', erc20=True)\n",
    "\n",
    "my_addr = MY_ADDR.lower()\n",
    "print(\"---------------------------------------------------\")\n",
    "print(\"   from        to    symbol     amount      balance\")\n",
    "print(\"---------------------------------------------------\")\n",
    "pre_txid = ''\n",
    "\n",
    "for each in transactions :\n",
    "    if each['from'] ==  '0x0000000000000000000000000000000000000000':\n",
    "        continue\n",
    "    qty = int(each['value'])/(10**18)\n",
    "\n",
    "    print(\"%8s %8s  %7s %8.3f\"%(each['from'], each['to'], each['tokenSymbol'], qty))\n",
    "\n",
    "print(transactions[0]) #1번째 불러오기(json)\n"
   ]
  },
  {
   "cell_type": "code",
   "execution_count": null,
   "id": "36f3c5ff",
   "metadata": {},
   "outputs": [],
   "source": []
  },
  {
   "cell_type": "code",
   "execution_count": 4,
   "id": "d0eac013",
   "metadata": {},
   "outputs": [
    {
     "name": "stdout",
     "output_type": "stream",
     "text": [
      "100\n"
     ]
    }
   ],
   "source": [
    "print(len(transactions))\n"
   ]
  },
  {
   "cell_type": "code",
   "execution_count": 5,
   "id": "519e074b",
   "metadata": {},
   "outputs": [
    {
     "name": "stdout",
     "output_type": "stream",
     "text": [
      "690000000000\n"
     ]
    }
   ],
   "source": [
    "address1 = '0x20bd73711a9221efd053fa79090056694300d7ae'\n",
    "api = Tokens(contract_address='0xa5DeC77c4d1B4eba2807C9926b182812A0cBf9Eb',\n",
    "             api_key=key)\n",
    "balance = api.get_token_balance(address=address1)\n",
    "print(balance)"
   ]
  }
 ],
 "metadata": {
  "kernelspec": {
   "display_name": "base",
   "language": "python",
   "name": "python3"
  },
  "language_info": {
   "codemirror_mode": {
    "name": "ipython",
    "version": 3
   },
   "file_extension": ".py",
   "mimetype": "text/x-python",
   "name": "python",
   "nbconvert_exporter": "python",
   "pygments_lexer": "ipython3",
   "version": "3.9.13 (main, Aug 25 2022, 18:29:29) \n[Clang 12.0.0 ]"
  },
  "vscode": {
   "interpreter": {
    "hash": "7e64d235d50a335b1f3b81183cb136d1ee33d5856107d524e5220e93f96317b8"
   }
  }
 },
 "nbformat": 4,
 "nbformat_minor": 5
}
