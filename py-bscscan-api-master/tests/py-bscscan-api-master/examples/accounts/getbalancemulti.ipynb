{
 "cells": [
  {
   "cell_type": "code",
   "execution_count": 6,
   "metadata": {},
   "outputs": [],
   "source": [
    "from bscscan.accounts import Account\n",
    "import pandas as pd\n",
    "\n",
    "key = 'HTU63DF6739HRD1RV7W4Y6B99JR5X7BSUW'\n",
    "MY_ADDR = ['0x4442a699664EF9908e958FAd6019a4Ae96D8caA8','0x9b953A8698eE01E17Ccc710050c2b196B49EE6C2']\n"
   ]
  },
  {
   "cell_type": "code",
   "execution_count": 7,
   "metadata": {},
   "outputs": [
    {
     "name": "stdout",
     "output_type": "stream",
     "text": [
      "[{'account': '0x4442a699664EF9908e958FAd6019a4Ae96D8caA8', 'balance': '19455010000000000'}, {'account': '0x9b953A8698eE01E17Ccc710050c2b196B49EE6C2', 'balance': '74115318161196211'}]\n"
     ]
    }
   ],
   "source": [
    "api = Account(address=MY_ADDR, api_key=key)\n",
    "balances = api.get_balance_multiple()\n",
    "print(balances)"
   ]
  },
  {
   "cell_type": "code",
   "execution_count": 14,
   "metadata": {},
   "outputs": [
    {
     "name": "stdout",
     "output_type": "stream",
     "text": [
      "                                      account            balance\n",
      "0  0x4442a699664EF9908e958FAd6019a4Ae96D8caA8  19455010000000000\n",
      "1  0x9b953A8698eE01E17Ccc710050c2b196B49EE6C2  74115318161196211\n"
     ]
    }
   ],
   "source": [
    "df = pd.DataFrame(balances)\n",
    "print(df)"
   ]
  },
  {
   "cell_type": "code",
   "execution_count": 15,
   "metadata": {},
   "outputs": [
    {
     "name": "stderr",
     "output_type": "stream",
     "text": [
      "/var/folders/bh/rq4473wd0pq5vlz3vtfvdhh80000gn/T/ipykernel_3599/3789803054.py:4: FutureWarning: save is not part of the public API, usage can give unexpected results and will be removed in a future version\n",
      "  writer.save()\n"
     ]
    }
   ],
   "source": [
    "def save(df, filename):\n",
    "    writer = pd.ExcelWriter(filename)\n",
    "    df.to_excel(writer,\"sheet1\")\n",
    "    writer.save()\n",
    "save(df, \"balance.xlsx\")"
   ]
  },
  {
   "cell_type": "code",
   "execution_count": null,
   "metadata": {},
   "outputs": [],
   "source": []
  },
  {
   "cell_type": "markdown",
   "metadata": {},
   "source": []
  }
 ],
 "metadata": {
  "kernelspec": {
   "display_name": "base",
   "language": "python",
   "name": "python3"
  },
  "language_info": {
   "codemirror_mode": {
    "name": "ipython",
    "version": 3
   },
   "file_extension": ".py",
   "mimetype": "text/x-python",
   "name": "python",
   "nbconvert_exporter": "python",
   "pygments_lexer": "ipython3",
   "version": "3.9.13"
  },
  "orig_nbformat": 4,
  "vscode": {
   "interpreter": {
    "hash": "7e64d235d50a335b1f3b81183cb136d1ee33d5856107d524e5220e93f96317b8"
   }
  }
 },
 "nbformat": 4,
 "nbformat_minor": 2
}
